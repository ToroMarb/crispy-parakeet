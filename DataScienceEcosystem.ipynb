{
 "cells": [
  {
   "cell_type": "markdown",
   "id": "94448a8d-9987-4113-90c0-56ede833ccd1",
   "metadata": {
    "tags": []
   },
   "source": [
    "# Data Science Tools and Ecosystem"
   ]
  },
  {
   "cell_type": "markdown",
   "id": "2ef9f752-3268-4641-9a95-3371a956be8d",
   "metadata": {},
   "source": [
    "In this notebook, we will summarize Data Science tools and Ecosystem"
   ]
  },
  {
   "cell_type": "markdown",
   "id": "3c270915-aa3d-47e1-97d5-dd29b78fb848",
   "metadata": {
    "tags": []
   },
   "source": [
    "Some of the main languages that Data Scientists employ are:\n",
    "\n",
    "1. Python\n",
    "2. R\n",
    "3. Julia\n",
    "4. C++\n",
    "5. Bash\n",
    "6. Javascript\n",
    "7. SQL\n",
    "8. Scala\n"
   ]
  },
  {
   "cell_type": "markdown",
   "id": "40d700b7-e196-49fe-9de8-ca681ba1de67",
   "metadata": {
    "tags": []
   },
   "source": [
    "Some of the commonly used libraries used by Data Scientists include:\n",
    "\n",
    "1. SciKit-learn\n",
    "2. Matplotlib\n",
    "3. Pandas\n",
    "4. Tensorflow\n",
    "5. NumPy\n",
    "6. SciPy\n"
   ]
  },
  {
   "cell_type": "markdown",
   "id": "487d492a-4362-4126-afb5-99ca2bde823a",
   "metadata": {
    "tags": []
   },
   "source": [
    "\n",
    "\n",
    "Data Science Tools|\n",
    "------------------\n",
    "Weka|\n",
    "KNIME|\n",
    "Hadoop|\n",
    "Spark|\n"
   ]
  },
  {
   "cell_type": "markdown",
   "id": "50572592-ae51-4a73-94f8-b031f2feb979",
   "metadata": {
    "tags": []
   },
   "source": [
    "### Below are a few examples of evaluating arithmetic expressions in Python.\n"
   ]
  },
  {
   "cell_type": "code",
   "execution_count": 12,
   "id": "6c10f721-2f76-49d3-bd6b-2608081ec881",
   "metadata": {
    "tags": []
   },
   "outputs": [
    {
     "data": {
      "text/plain": [
       "17"
      ]
     },
     "execution_count": 12,
     "metadata": {},
     "output_type": "execute_result"
    }
   ],
   "source": [
    "# This a simple arithmetic expression to mutiply then add integers\n",
    "\n",
    "(3*4)+5"
   ]
  },
  {
   "cell_type": "code",
   "execution_count": 13,
   "id": "9692c7d2-5f17-4dfb-a018-4d46164ec2fd",
   "metadata": {
    "tags": []
   },
   "outputs": [
    {
     "name": "stdout",
     "output_type": "stream",
     "text": [
      "3.3333333333333335\n"
     ]
    }
   ],
   "source": [
    "# Now we are going to convert 200 minutes to hours with a simple line of code:\n",
    "\n",
    "hours = 200/60\n",
    "print(hours)\n",
    "\n"
   ]
  },
  {
   "cell_type": "markdown",
   "id": "6ab0f880-6a0e-46f8-ac26-80f3ed203d0d",
   "metadata": {
    "tags": []
   },
   "source": [
    "\n",
    "\n",
    "**Objectives:**\n",
    "\n",
    "* List main languages used for Data Science\n",
    "* List some of the Open Source tools available for Data Science\n",
    "* List main libraries used for Data Science"
   ]
  },
  {
   "cell_type": "markdown",
   "id": "40cdf2c0-ca26-4522-b2b7-8468217325d9",
   "metadata": {
    "tags": []
   },
   "source": [
    "## Author\n",
    "\n",
    "Omar Banna Dosamantes\n",
    " "
   ]
  },
  {
   "cell_type": "code",
   "execution_count": null,
   "id": "a55b96f1-34a9-4eea-a9ef-beb625729eeb",
   "metadata": {},
   "outputs": [],
   "source": []
  }
 ],
 "metadata": {
  "kernelspec": {
   "display_name": "Python 3 (ipykernel)",
   "language": "python",
   "name": "python3"
  },
  "language_info": {
   "codemirror_mode": {
    "name": "ipython",
    "version": 3
   },
   "file_extension": ".py",
   "mimetype": "text/x-python",
   "name": "python",
   "nbconvert_exporter": "python",
   "pygments_lexer": "ipython3",
   "version": "3.11.5"
  }
 },
 "nbformat": 4,
 "nbformat_minor": 5
}
